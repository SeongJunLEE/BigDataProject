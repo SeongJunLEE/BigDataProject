{
 "cells": [
  {
   "cell_type": "code",
   "execution_count": null,
   "metadata": {
    "collapsed": true
   },
   "outputs": [],
   "source": [
    "import numpy as np\n",
    "import pandas as pd\n",
    "import sys\n",
    "from sklearn.model_selection import train_test_split\n",
    "from sklearn import preprocessing\n",
    "from sklearn.tree import DecisionTreeClassifier\n",
    "from sklearn.ensemble import RandomForestClassifier\n",
    "from sklearn.ensemble import AdaBoostClassifier"
   ]
  },
  {
   "cell_type": "code",
   "execution_count": 2,
   "metadata": {},
   "outputs": [],
   "source": [
    "rfc = RandomForestClassifier(\n",
    "    n_estimators = 100,\n",
    "    oob_score = True,\n",
    "    n_jobs = -1,\n",
    "    random_state =50,\n",
    "    max_features = \"auto\",\n",
    "    min_samples_leaf = 50)\n",
    "\n",
    "# bdt_discrete = AdaBoostClassifier(\n",
    "#     DecisionTreeClassifier(max_depth=6),\n",
    "#     n_estimators=50,\n",
    "#     learning_rate=1.5,\n",
    "#     algorithm=\"SAMME\")"
   ]
  },
  {
   "cell_type": "markdown",
   "metadata": {},
   "source": [
    "# Dictionary"
   ]
  },
  {
   "cell_type": "code",
   "execution_count": 3,
   "metadata": {
    "collapsed": true
   },
   "outputs": [],
   "source": [
    "target_cols_train = ['ind_ahor_fin_ult1','ind_aval_fin_ult1','ind_cco_fin_ult1',\n",
    "               'ind_cder_fin_ult1','ind_cno_fin_ult1','ind_ctju_fin_ult1',\n",
    "               'ind_ctma_fin_ult1','ind_ctop_fin_ult1','ind_ctpp_fin_ult1',\n",
    "               'ind_deco_fin_ult1','ind_deme_fin_ult1','ind_dela_fin_ult1',\n",
    "               'ind_ecue_fin_ult1','ind_fond_fin_ult1','ind_hip_fin_ult1',\n",
    "               'ind_plan_fin_ult1','ind_pres_fin_ult1','ind_reca_fin_ult1',\n",
    "               'ind_tjcr_fin_ult1','ind_valo_fin_ult1','ind_viv_fin_ult1',\n",
    "               'ind_nomina_ult1','ind_nom_pens_ult1','ind_recibo_ult1']\n",
    "\n",
    "\n",
    "target_cols_test = ['ind_ahor_fin_ult1_y','ind_aval_fin_ult1_y','ind_cco_fin_ult1_y',\n",
    "               'ind_cder_fin_ult1_y','ind_cno_fin_ult1_y','ind_ctju_fin_ult1_y',\n",
    "               'ind_ctma_fin_ult1_y','ind_ctop_fin_ult1_y','ind_ctpp_fin_ult1_y',\n",
    "               'ind_deco_fin_ult1_y','ind_deme_fin_ult1_y','ind_dela_fin_ult1_y',\n",
    "               'ind_ecue_fin_ult1_y','ind_fond_fin_ult1_y','ind_hip_fin_ult1_y',\n",
    "               'ind_plan_fin_ult1_y','ind_pres_fin_ult1_y','ind_reca_fin_ult1_y',\n",
    "               'ind_tjcr_fin_ult1_y','ind_valo_fin_ult1_y','ind_viv_fin_ult1_y',\n",
    "               'ind_nomina_ult1_y','ind_nom_pens_ult1_y','ind_recibo_ult1_y']\n",
    "\n",
    "canal_dict = {'KAI': 35,'KBG': 17,'KGU': 149,'KDE': 47,'KAJ': 41,'KCG': 59,\n",
    " 'KHM': 12,'KAL': 74,'KFH': 140,'KCT': 112,'KBJ': 133,'KBL': 88,'KHQ': 157,'KFB': 146,'KFV': 48,'KFC': 4,\n",
    " 'KCK': 52,'KAN': 110,'KES': 68,'KCB': 78,'KBS': 118,'KDP': 103,'KDD': 113,'KBX': 116,'KCM': 82,\n",
    " 'KAE': 30,'KAB': 28,'KFG': 27,'KDA': 63,'KBV': 100,'KBD': 109,'KBW': 114,'KGN': 11,\n",
    " 'KCP': 129,'KAK': 51,'KAR': 32,'KHK': 10,'KDS': 124,'KEY': 93,'KFU': 36,'KBY': 111,\n",
    " 'KEK': 145,'KCX': 120,'KDQ': 80,'K00': 50,'KCC': 29,'KCN': 81,'KDZ': 99,'KDR': 56,\n",
    " 'KBE': 119,'KFN': 42,'KEC': 66,'KDM': 130,'KBP': 121,'KAU': 142,'KDU': 79,\n",
    " 'KCH': 84,'KHF': 19,'KCR': 153,'KBH': 90,'KEA': 89,'KEM': 155,'KGY': 44,'KBM': 135,\n",
    " 'KEW': 98,'KDB': 117,'KHD': 2,'RED': 8,'KBN': 122,'KDY': 61,'KDI': 150,'KEU': 72,\n",
    " 'KCA': 73,'KAH': 31,'KAO': 94,'KAZ': 7,'004': 83,'KEJ': 95,'KBQ': 62,'KEZ': 108,\n",
    " 'KCI': 65,'KGW': 147,'KFJ': 33,'KCF': 105,'KFT': 92,'KED': 143,'KAT': 5,'KDL': 158,\n",
    " 'KFA': 3,'KCO': 104,'KEO': 96,'KBZ': 67,'KHA': 22,'KDX': 69,'KDO': 60,'KAF': 23,'KAW': 76,\n",
    " 'KAG': 26,'KAM': 107,'KEL': 125,'KEH': 15,'KAQ': 37,'KFD': 25,'KEQ': 138,'KEN': 137,\n",
    " 'KFS': 38,'KBB': 131,'KCE': 86,'KAP': 46,'KAC': 57,'KBO': 64,'KHR': 161,'KFF': 45,\n",
    " 'KEE': 152,'KHL': 0,'007': 71,'KDG': 126,'025': 159,'KGX': 24,'KEI': 97,'KBF': 102,\n",
    " 'KEG': 136,'KFP': 40,'KDF': 127,'KCJ': 156,'KFR': 144,'KDW': 132,-1: 6,'KAD': 16,\n",
    " 'KBU': 55,'KCU': 115,'KAA': 39,'KEF': 128,'KAY': 54,'KGC': 18,'KAV': 139,'KDN': 151,\n",
    " 'KCV': 106,'KCL': 53,'013': 49,'KDV': 91,'KFE': 148,'KCQ': 154,'KDH': 14,'KHN': 21,\n",
    " 'KDT': 58,'KBR': 101,'KEB': 123,'KAS': 70,'KCD': 85,'KFL': 34,'KCS': 77,'KHO': 13,\n",
    " 'KEV': 87,'KHE': 1,'KHC': 9,'KFK': 20,'KDC': 75,'KFM': 141,'KHP': 160,'KHS': 162,\n",
    " 'KFI': 134,'KGV': 43}\n",
    "\n",
    "\n",
    "pais_dict = {'LV': 102,'CA': 2,'GB': 9,'EC': 19,'BY': 64,'ML': 104,'MT': 118,\n",
    " 'LU': 59,'GR': 39,'NI': 33,'BZ': 113,'QA': 58,'DE': 10,'AU': 63,'IN': 31,\n",
    " 'GN': 98,'KE': 65,'HN': 22,'JM': 116,'SV': 53,'TH': 79,'IE': 5,'TN': 85,\n",
    " 'PH': 91,'ET': 54,'AR': 13,'KR': 87,'GA': 45,'FR': 8,'SG': 66,'LB': 81,\n",
    " 'MA': 38,'NZ': 93,'SK': 69,'CN': 28,'GI': 96,'PY': 51,'SA': 56,'PL': 30,\n",
    " 'PE': 20,'GE': 78,'HR': 67,'CD': 112,'MM': 94,'MR': 48,'NG': 83,'HU': 106,\n",
    " 'AO': 71,'NL': 7,'GM': 110,'DJ': 115,'ZA': 75,'OM': 100,'LT': 103,'MZ': 27,\n",
    " 'VE': 14,'EE': 52,'CF': 109,'CL': 4,'SL': 97,'DO': 11,'PT': 26,'ES': 0,\n",
    " 'CZ': 36,'AD': 35,'RO': 41,'TW': 29,'BA': 61,'IS': 107,'AT': 6,'ZW': 114,\n",
    " 'TR': 70,'CO': 21,'PK': 84,'SE': 24,'AL': 25,'CU': 72,'UY': 77,'EG': 74,'CR': 32,\n",
    " 'GQ': 73,'MK': 105,'KW': 92,'GT': 44,'CM': 55,'SN': 47,'KZ': 111,'DK': 76,\n",
    " 'LY': 108,'AE': 37,'PA': 60,'UA': 49,'GW': 99,'TG': 86,'MX': 16,'KH': 95,\n",
    " 'FI': 23,'NO': 46,'IT': 18,'GH': 88, 'JP': 82,'RU': 43,'PR': 40,'RS': 89,\n",
    " 'DZ': 80,'MD': 68,-1: 1,'BG': 50,'CI': 57,'IL': 42,'VN': 90,'CH': 3,'US': 15,'HK': 34,\n",
    " 'CG': 101,'BO': 62,'BR': 17,'BE': 12,'BM': 117}\n",
    "\n",
    "emp_dict = {'N':0,-1:-1,'A':1,'B':2,'F':3,'S':4}\n",
    "indfall_dict = {'N':0,-1:-1,'S':1}\n",
    "sexo_dict = {'V':0,'H':1,-1:-1}\n",
    "tiprel_dict = {'A':0,-1:-1,'I':1,'P':2,'N':3,'R':4}\n",
    "indresi_dict = {'N':0,-1:-1,'S':1}\n",
    "indext_dict = {'N':0,-1:-1,'S':1}\n",
    "conyuemp_dict = {'N':0,-1:-1,'S':1}\n",
    "segmento_dict = {-1:-1,'01 - TOP':1,'02 - PARTICULARES':2,'03 - UNIVERSITARIO':3}"
   ]
  },
  {
   "cell_type": "markdown",
   "metadata": {},
   "source": [
    "# Definition"
   ]
  },
  {
   "cell_type": "code",
   "execution_count": 4,
   "metadata": {
    "collapsed": true
   },
   "outputs": [],
   "source": [
    "def resize_data(DF,is_DF=True):\n",
    "    DF.replace(' NA', -2, inplace=True)\n",
    "    DF.replace('         NA', -2, inplace=True)\n",
    "    DF.fillna(-1, inplace=True)\n",
    "    DF['ncodpers'] = DF['ncodpers'].astype(np.int32)\n",
    "    DF['renta'] = DF['renta'].astype(np.float32)\n",
    "    DF['indrel'] = DF['indrel'].map(lambda x: 2 if x == 99 else x).astype(np.int8)\n",
    "    DF['ind_empleado'] = DF['ind_empleado'].map(lambda x: emp_dict[x]).astype(np.int8)\n",
    "    DF['sexo'] = DF['sexo'].map(lambda x: sexo_dict[x]).astype(np.int8)\n",
    "    DF['age'] = DF['age'].astype(np.int16)\n",
    "    DF['ind_nuevo'] = DF['ind_nuevo'].astype(np.int8)\n",
    "    DF['antiguedad'] = DF['antiguedad'].map(lambda x: -1 if x == '     NA' else x).astype(int)\n",
    "    DF['antiguedad'] = DF['antiguedad'].map(lambda x: -2 if x == -999999 else x).astype(np.int16)\n",
    "    DF['indrel_1mes'] = DF['indrel_1mes'].map(lambda x: -2 if x == 'P' else x).astype(np.float16)\n",
    "    DF['indrel_1mes'] = DF['indrel_1mes'].astype(np.int8)\n",
    "    DF['tiprel_1mes'] = DF['tiprel_1mes'].map(lambda x: tiprel_dict[x]).astype(np.int8)\n",
    "    DF['indresi'] = DF['indresi'].map(lambda x: indresi_dict[x]).astype(np.int8)\n",
    "    DF['indext'] = DF['indext'].map(lambda x: indext_dict[x]).astype(np.int8)\n",
    "    DF['conyuemp'] = DF['conyuemp'].map(lambda x: conyuemp_dict[x]).astype(np.int8)\n",
    "    DF['canal_entrada'] = DF['canal_entrada'].map(lambda x: canal_dict[x]).astype(np.int16)\n",
    "    DF['indfall'] = DF['indfall'].map(lambda x: indfall_dict[x]).astype(np.int8)\n",
    "    DF['pais_residencia'] = DF['pais_residencia'].map(lambda x: pais_dict[x]).astype(np.int8)\n",
    "    DF['tipodom'] = DF['tipodom'].astype(np.int8)\n",
    "    DF['cod_prov'] = DF['cod_prov'].astype(np.int8)\n",
    "    DF['ind_actividad_cliente'] = DF['ind_actividad_cliente'].astype(np.int8)\n",
    "    DF['fecha_alta'] = DF['fecha_alta'].map(lambda x: '2020-00-00' if x == -1 else x)\n",
    "    DF['segmento'] = DF['segmento'].map(lambda x: segmento_dict[x]).astype(np.int8)\n",
    "\n",
    "    for col in target_cols_train:\n",
    "        if is_DF:\n",
    "            DF[col] = DF[col].astype(np.int8)\n",
    "    \n",
    "    return DF"
   ]
  },
  {
   "cell_type": "code",
   "execution_count": 5,
   "metadata": {
    "collapsed": true
   },
   "outputs": [],
   "source": [
    "def resize_data2(DF,is_DF=True):\n",
    "    DF['ncodpers'] = DF['ncodpers'].astype(np.int32)\n",
    "    DF['renta'] = DF['renta'].astype(np.float32)\n",
    "    DF['indrel'] = DF['indrel'].map(lambda x: 2 if x == 99 else x).astype(np.int8)\n",
    "    DF['ind_empleado'] = DF['ind_empleado'].map(lambda x: emp_dict[x]).astype(np.int8)\n",
    "    DF['sexo'] = DF['sexo'].map(lambda x: sexo_dict[x]).astype(np.int8)\n",
    "    DF['age'] = DF['age'].astype(np.int16)\n",
    "    DF['ind_nuevo'] = DF['ind_nuevo'].astype(np.int8)\n",
    "    DF['antiguedad'] = DF['antiguedad'].map(lambda x: -1 if x == '     NA' else x).astype(int)\n",
    "    DF['antiguedad'] = DF['antiguedad'].map(lambda x: -2 if x == -999999 else x).astype(np.int16)\n",
    "    DF['indrel_1mes'] = DF['indrel_1mes'].map(lambda x: -2 if x == 'P' else x).astype(np.float16)\n",
    "    DF['indrel_1mes'] = DF['indrel_1mes'].astype(np.int8)\n",
    "    DF['tiprel_1mes'] = DF['tiprel_1mes'].map(lambda x: tiprel_dict[x]).astype(np.int8)\n",
    "    DF['indresi'] = DF['indresi'].map(lambda x: indresi_dict[x]).astype(np.int8)\n",
    "    DF['indext'] = DF['indext'].map(lambda x: indext_dict[x]).astype(np.int8)\n",
    "    DF['canal_entrada'] = DF['canal_entrada'].map(lambda x: canal_dict[x]).astype(np.int16)\n",
    "    DF['indfall'] = DF['indfall'].map(lambda x: indfall_dict[x]).astype(np.int8)\n",
    "    DF['pais_residencia'] = DF['pais_residencia'].map(lambda x: pais_dict[x]).astype(np.int8)\n",
    "    DF['tipodom'] = DF['tipodom'].astype(np.int8)\n",
    "    DF['cod_prov'] = DF['cod_prov'].astype(np.int8)\n",
    "    DF['ind_actividad_cliente'] = DF['ind_actividad_cliente'].astype(np.int8)\n",
    "    DF['fecha_alta'] = DF['fecha_alta'].map(lambda x: '2020-00-00' if x == -1 else x)\n",
    "    DF['segmento'] = DF['segmento'].map(lambda x: segmento_dict[x]).astype(np.int8)\n",
    "\n",
    "    for col in target_cols_train:\n",
    "        if is_DF:\n",
    "            DF[col] = DF[col].astype(np.int8)\n",
    "\n",
    "    DF['ncodpers_y'] = DF['ncodpers_y'].astype(np.int32)\n",
    "    DF['renta_y'] = DF['renta_y'].astype(np.float32)\n",
    "    DF['indrel_y'] = DF['indrel_y'].map(lambda x: 2 if x == 99 else x).astype(np.int8)\n",
    "    DF['ind_empleado_y'] = DF['ind_empleado_y'].map(lambda x: emp_dict[x]).astype(np.int8)\n",
    "    DF['sexo_y'] = DF['sexo_y'].map(lambda x: sexo_dict[x]).astype(np.int8)\n",
    "    DF['age_y'] = DF['age_y'].astype(np.int16)\n",
    "    DF['ind_nuevo_y'] = DF['ind_nuevo_y'].astype(np.int8)\n",
    "    DF['antiguedad_y'] = DF['antiguedad_y'].map(lambda x: -1 if x == '     NA' else x).astype(int)\n",
    "    DF['antiguedad_y'] = DF['antiguedad_y'].map(lambda x: -2 if x == -999999 else x).astype(np.int16)\n",
    "    DF['indrel_1mes_y'] = DF['indrel_1mes_y'].map(lambda x: -2 if x == 'P' else x).astype(np.float16)\n",
    "    DF['indrel_1mes_y'] = DF['indrel_1mes_y'].astype(np.int8)\n",
    "    DF['tiprel_1mes_y'] = DF['tiprel_1mes_y'].map(lambda x: tiprel_dict[x]).astype(np.int8)\n",
    "    DF['indresi_y'] = DF['indresi_y'].map(lambda x: indresi_dict[x]).astype(np.int8)\n",
    "    DF['indext_y'] = DF['indext_y'].map(lambda x: indext_dict[x]).astype(np.int8)\n",
    "    DF['canal_entrada_y'] = DF['canal_entrada_y'].map(lambda x: canal_dict[x]).astype(np.int16)\n",
    "    DF['indfall_y'] = DF['indfall_y'].map(lambda x: indfall_dict[x]).astype(np.int8)\n",
    "    DF['pais_residencia_y'] = DF['pais_residencia_y'].map(lambda x: pais_dict[x]).astype(np.int8)\n",
    "    DF['tipodom_y'] = DF['tipodom_y'].astype(np.int8)\n",
    "    DF['cod_prov_y'] = DF['cod_prov_y'].astype(np.int8)\n",
    "    DF['ind_actividad_cliente_y'] = DF['ind_actividad_cliente_y'].astype(np.int8)\n",
    "    DF['fecha_alta_y'] = DF['fecha_alta_y'].map(lambda x: '2020-00-00' if x == -1 else x)\n",
    "    DF['segmento_y'] = DF['segmento_y'].map(lambda x: segmento_dict[x]).astype(np.int8)\n",
    "\n",
    "    return DF"
   ]
  },
  {
   "cell_type": "markdown",
   "metadata": {},
   "source": [
    "# Import Data "
   ]
  },
  {
   "cell_type": "code",
   "execution_count": 6,
   "metadata": {},
   "outputs": [
    {
     "name": "stderr",
     "output_type": "stream",
     "text": [
      "/Users/leeseongjun/anaconda/lib/python3.6/site-packages/IPython/core/interactiveshell.py:2821: DtypeWarning: Columns (10) have mixed types. Specify dtype option on import or set low_memory=False.\n",
      "  if self.run_code(code, result):\n",
      "/Users/leeseongjun/anaconda/lib/python3.6/site-packages/IPython/core/interactiveshell.py:2821: DtypeWarning: Columns (10,15) have mixed types. Specify dtype option on import or set low_memory=False.\n",
      "  if self.run_code(code, result):\n",
      "/Users/leeseongjun/anaconda/lib/python3.6/site-packages/IPython/core/interactiveshell.py:2821: DtypeWarning: Columns (15) have mixed types. Specify dtype option on import or set low_memory=False.\n",
      "  if self.run_code(code, result):\n",
      "/Users/leeseongjun/anaconda/lib/python3.6/site-packages/IPython/core/interactiveshell.py:2821: DtypeWarning: Columns (5,8,10,11) have mixed types. Specify dtype option on import or set low_memory=False.\n",
      "  if self.run_code(code, result):\n",
      "/Users/leeseongjun/anaconda/lib/python3.6/site-packages/IPython/core/interactiveshell.py:2821: DtypeWarning: Columns (11,15) have mixed types. Specify dtype option on import or set low_memory=False.\n",
      "  if self.run_code(code, result):\n",
      "/Users/leeseongjun/anaconda/lib/python3.6/site-packages/IPython/core/interactiveshell.py:2821: DtypeWarning: Columns (11) have mixed types. Specify dtype option on import or set low_memory=False.\n",
      "  if self.run_code(code, result):\n",
      "/Users/leeseongjun/anaconda/lib/python3.6/site-packages/IPython/core/interactiveshell.py:2821: DtypeWarning: Columns (10,11,15) have mixed types. Specify dtype option on import or set low_memory=False.\n",
      "  if self.run_code(code, result):\n",
      "/Users/leeseongjun/anaconda/lib/python3.6/site-packages/IPython/core/interactiveshell.py:2821: DtypeWarning: Columns (10,11) have mixed types. Specify dtype option on import or set low_memory=False.\n",
      "  if self.run_code(code, result):\n"
     ]
    }
   ],
   "source": [
    "reader = pd.read_csv('train_ver2_half.csv', chunksize=100000, header=0)\n",
    "train_df = pd.concat([resize_data(chunk) for chunk in reader])"
   ]
  },
  {
   "cell_type": "markdown",
   "metadata": {},
   "source": [
    "# Test Data add Head"
   ]
  },
  {
   "cell_type": "code",
   "execution_count": 7,
   "metadata": {},
   "outputs": [],
   "source": [
    "reader2 = pd.read_csv('test_1000_2.csv', header=None)\n",
    "columns_name = train_df.columns\n",
    "\n",
    "for i in range(0,48):\n",
    "    s = columns_name[i]\n",
    "    reader2.rename(columns={i:s}, inplace=True)\n",
    "\n",
    "for i in range(48,72):\n",
    "    s = columns_name[i-48]+'_y'\n",
    "    reader2.rename(columns={i:s}, inplace=True)\n",
    "\n",
    "reader2.to_csv('test_ver2_half.csv')\n",
    "reader3 = pd.read_csv('test_ver2_half.csv',chunksize = 100, header=0)\n",
    "test_df = pd.concat([resize_data2(chunk) for chunk in reader3])"
   ]
  },
  {
   "cell_type": "markdown",
   "metadata": {},
   "source": [
    "# Filter Data "
   ]
  },
  {
   "cell_type": "code",
   "execution_count": 8,
   "metadata": {
    "collapsed": true
   },
   "outputs": [],
   "source": [
    "train_df = train_df[train_df.ind_actividad_cliente != -1]\n",
    "test_df = test_df[test_df.ind_actividad_cliente != -1]\n",
    "test_df = test_df[test_df.ind_actividad_cliente_y != -1]"
   ]
  },
  {
   "cell_type": "markdown",
   "metadata": {},
   "source": [
    "# Column Drop"
   ]
  },
  {
   "cell_type": "code",
   "execution_count": 9,
   "metadata": {
    "collapsed": true
   },
   "outputs": [],
   "source": [
    "train_df.drop([\"tipodom\"],axis=1,inplace=True)\n",
    "train_df.drop([\"conyuemp\"], axis=1, inplace=True)\n",
    "train_df.drop('nomprov',axis=1,inplace=True)\n",
    "train_df.drop('ult_fec_cli_1t',axis=1,inplace=True)\n",
    "test_df.drop([\"tipodom\"],axis=1,inplace=True)\n",
    "test_df.drop([\"conyuemp\"], axis=1, inplace=True)\n",
    "test_df.drop('nomprov',axis=1,inplace=True)\n",
    "test_df.drop('ult_fec_cli_1t',axis=1,inplace=True)\n",
    "test_df.drop([\"tipodom_y\"],axis=1,inplace=True)\n",
    "test_df.drop([\"conyuemp_y\"], axis=1, inplace=True)\n",
    "test_df.drop('nomprov_y',axis=1,inplace=True)\n",
    "test_df.drop('ult_fec_cli_1t_y',axis=1,inplace=True)\n",
    "test_df.drop('fecha_dato_y',axis=1,inplace=True)\n",
    "test_df.drop('ncodpers_y',axis=1,inplace=True)"
   ]
  },
  {
   "cell_type": "code",
   "execution_count": 10,
   "metadata": {},
   "outputs": [
    {
     "name": "stderr",
     "output_type": "stream",
     "text": [
      "/Users/leeseongjun/anaconda/lib/python3.6/site-packages/ipykernel_launcher.py:1: DeprecationWarning: \n",
      ".ix is deprecated. Please use\n",
      ".loc for label based indexing or\n",
      ".iloc for positional indexing\n",
      "\n",
      "See the documentation here:\n",
      "http://pandas.pydata.org/pandas-docs/stable/indexing.html#deprecate_ix\n",
      "  \"\"\"Entry point for launching an IPython kernel.\n",
      "/Users/leeseongjun/anaconda/lib/python3.6/site-packages/ipykernel_launcher.py:2: DeprecationWarning: \n",
      ".ix is deprecated. Please use\n",
      ".loc for label based indexing or\n",
      ".iloc for positional indexing\n",
      "\n",
      "See the documentation here:\n",
      "http://pandas.pydata.org/pandas-docs/stable/indexing.html#deprecate_ix\n",
      "  \n"
     ]
    }
   ],
   "source": [
    "train_df.ix[train_df[\"ind_nuevo\"].isin([-1]),\"ind_nuevo\"] = 1\n",
    "test_df.ix[test_df[\"ind_nuevo\"].isin([-1]),\"ind_nuevo\"] = 1\n",
    "test_df.ix[test_df[\"ind_nuevo_y\"].isin([-1]),\"ind_nuevo_y\"] = 1\n",
    "train_df.ix[train_df[\"antiguedad\"].isin([-1]),\"antiguedad\"] = train_df[\"antiguedad\"].min()\n",
    "test_df.ix[test_df[\"antiguedad\"].isin([-1]),\"antiguedad\"] = test_df[\"antiguedad\"].min()\n",
    "test_df.ix[test_df[\"antiguedad_y\"].isin([-1]),\"antiguedad_y\"] = test_df[\"antiguedad_y\"].min()\n",
    "train_df.ix[train_df[\"antiguedad\"].isin([-2]),\"antiguedad\"] = train_df[\"antiguedad\"].min()\n",
    "test_df.ix[test_df[\"antiguedad\"].isin([-2]),\"antiguedad\"] = test_df[\"antiguedad\"].min()\n",
    "test_df.ix[test_df[\"antiguedad_y\"].isin([-2]),\"antiguedad_y\"] = test_df[\"antiguedad_y\"].min()\n",
    "train_df.ix[train_df.indrel.isin([-1]),\"indrel\"] = 1\n",
    "test_df.ix[test_df.indrel.isin([-1]),\"indrel\"] = 1\n",
    "test_df.ix[test_df.indrel_y.isin([-1]),\"indrel_y\"] = 1\n",
    "train_df[\"age\"] = train_df[\"age\"].astype(int)\n",
    "test_df[\"age\"] = test_df[\"age\"].astype(int)\n",
    "test_df[\"age_y\"] = test_df[\"age_y\"].astype(int)\n",
    "train_df.ix[train_df.cod_prov.isin([-1]),\"cod_prov\"] = train_df.cod_prov.median()\n",
    "test_df.ix[test_df.cod_prov.isin([-1]),\"cod_prov\"] = test_df.cod_prov.median()\n",
    "test_df.ix[test_df.cod_prov_y.isin([-1]),\"cod_prov_y\"] = test_df.cod_prov_y.median()\n",
    "train_df.ix[train_df.renta.isin([-1]), \"renta\"] = train_df.renta.median()\n",
    "test_df.ix[test_df.renta.isin([-1]), \"renta\"] = test_df.renta.median()\n",
    "test_df.ix[test_df.renta_y.isin([-1]), \"renta_y\"] = test_df.renta.median()\n",
    "train_df.ix[train_df.indrel_1mes.isin([-1]), \"indrel_1mes\"] = 1\n",
    "test_df.ix[test_df.indrel_1mes.isin([-1]), \"indrel_1mes\"] = 1\n",
    "test_df.ix[test_df.indrel_1mes_y.isin([-1]), \"indrel_1mes_y\"] = 1\n",
    "train_df.ix[train_df.tiprel_1mes.isin([-1]), \"tiprel_1mes\"] = 0\n",
    "test_df.ix[test_df.tiprel_1mes.isin([-1]), \"tiprel_1mes\"] = 0\n",
    "test_df.ix[test_df.tiprel_1mes_y.isin([-1]), \"tiprel_1mes_y\"] = 0\n",
    "train_df.ix[train_df.segmento.isin([-1]), \"segmento\"] = 2\n",
    "test_df.ix[test_df.segmento.isin([-1]), \"segmento\"] = 2\n",
    "test_df.ix[test_df.segmento_y.isin([-1]), \"segmento_y\"] = 2\n",
    "train_df.ix[train_df.ind_nomina_ult1.isin([-1]), \"ind_nomina_ult1\"] = 0\n",
    "test_df.ix[test_df.ind_nomina_ult1.isin([-1]), \"ind_nomina_ult1\"] = 0\n",
    "train_df.ix[train_df.ind_nom_pens_ult1.isin([-1]), \"ind_nom_pens_ult1\"] = 0\n",
    "test_df.ix[test_df.ind_nom_pens_ult1.isin([-1]), \"ind_nom_pens_ult1\"] = 0\n",
    "train_df.ix[train_df.sexo.isin([-1]), \"sexo\"] = 0\n",
    "test_df.ix[test_df.sexo.isin([-1]), \"sexo\"] = 0\n",
    "test_df.ix[test_df.sexo_y.isin([-1]), \"sexo_y\"] = 0\n",
    "train_df.ix[train_df.indrel_1mes.isin([-1]), \"indrel_1mes\"] = 1\n",
    "test_df.ix[test_df.indrel_1mes.isin([-1]), \"indrel_1mes\"] = 1\n",
    "test_df.ix[test_df.indrel_1mes_y.isin([-1]), \"indrel_1mes_y\"] = 1\n",
    "test_df.ix[test_df.renta.isin(['nan']),\"renta\"] = test_df.renta.median()\n",
    "test_df.ix[test_df.renta_y.isin(['nan']),\"renta_y\"] = test_df.renta_y.median()\n",
    "test_df['renta'] = test_df['renta'].astype(np.float32)\n",
    "test_df['renta_y'] = test_df['renta_y'].astype(np.float32)"
   ]
  },
  {
   "cell_type": "code",
   "execution_count": 11,
   "metadata": {
    "collapsed": true
   },
   "outputs": [],
   "source": [
    "train_df2 = train_df.select_dtypes(include=[object])\n",
    "le = preprocessing.LabelEncoder()\n",
    "train_df2 = train_df2.apply(le.fit_transform)\n",
    "\n",
    "for i in train_df2:\n",
    "    train_df[i] = train_df2[i]\n",
    "test_df2 = test_df.select_dtypes(include=[object])\n",
    "le = preprocessing.LabelEncoder()\n",
    "test_df2 = test_df2.apply(le.fit_transform)\n",
    "\n",
    "for i in test_df2:\n",
    "    test_df[i] = test_df2[i]\n",
    "test_df.ix[test_df.fecha_dato.isin([0]), \"fecha_dato\"] = 17\n",
    "test_df.drop(test_df.columns[0], axis=1, inplace=True)"
   ]
  },
  {
   "cell_type": "code",
   "execution_count": 13,
   "metadata": {
    "collapsed": true
   },
   "outputs": [],
   "source": [
    "persent = []\n",
    "all = pd.DataFrame()\n",
    "for i in range(0,16):\n",
    "    month1 = train_df[train_df['fecha_dato'] == i]\n",
    "    month2 = train_df[train_df['fecha_dato'] == i+1]\n",
    "    check_id_m1 = month1[month1['ncodpers'].isin(month2['ncodpers'])]\n",
    "    check_id_m2 = month2[month2['ncodpers'].isin(check_id_m1['ncodpers'])]\n",
    "    m1_m2 = pd.merge(check_id_m1, check_id_m2, how='left', on=['ncodpers'])\n",
    "    m1_m2.drop(['fecha_dato_y'],axis=1,inplace=True)\n",
    "    all = all.append(m1_m2) "
   ]
  },
  {
   "cell_type": "markdown",
   "metadata": {},
   "source": [
    "# Model"
   ]
  },
  {
   "cell_type": "code",
   "execution_count": 14,
   "metadata": {},
   "outputs": [
    {
     "name": "stderr",
     "output_type": "stream",
     "text": [
      "/Users/leeseongjun/anaconda/lib/python3.6/site-packages/ipykernel_launcher.py:5: DataConversionWarning: A column-vector y was passed when a 1d array was expected. Please change the shape of y to (n_samples,), for example using ravel().\n",
      "  \"\"\"\n",
      "/Users/leeseongjun/anaconda/lib/python3.6/site-packages/ipykernel_launcher.py:5: DataConversionWarning: A column-vector y was passed when a 1d array was expected. Please change the shape of y to (n_samples,), for example using ravel().\n",
      "  \"\"\"\n",
      "/Users/leeseongjun/anaconda/lib/python3.6/site-packages/ipykernel_launcher.py:5: DataConversionWarning: A column-vector y was passed when a 1d array was expected. Please change the shape of y to (n_samples,), for example using ravel().\n",
      "  \"\"\"\n",
      "/Users/leeseongjun/anaconda/lib/python3.6/site-packages/ipykernel_launcher.py:5: DataConversionWarning: A column-vector y was passed when a 1d array was expected. Please change the shape of y to (n_samples,), for example using ravel().\n",
      "  \"\"\"\n",
      "/Users/leeseongjun/anaconda/lib/python3.6/site-packages/ipykernel_launcher.py:5: DataConversionWarning: A column-vector y was passed when a 1d array was expected. Please change the shape of y to (n_samples,), for example using ravel().\n",
      "  \"\"\"\n",
      "/Users/leeseongjun/anaconda/lib/python3.6/site-packages/ipykernel_launcher.py:5: DataConversionWarning: A column-vector y was passed when a 1d array was expected. Please change the shape of y to (n_samples,), for example using ravel().\n",
      "  \"\"\"\n",
      "/Users/leeseongjun/anaconda/lib/python3.6/site-packages/ipykernel_launcher.py:5: DataConversionWarning: A column-vector y was passed when a 1d array was expected. Please change the shape of y to (n_samples,), for example using ravel().\n",
      "  \"\"\"\n",
      "/Users/leeseongjun/anaconda/lib/python3.6/site-packages/ipykernel_launcher.py:5: DataConversionWarning: A column-vector y was passed when a 1d array was expected. Please change the shape of y to (n_samples,), for example using ravel().\n",
      "  \"\"\"\n",
      "/Users/leeseongjun/anaconda/lib/python3.6/site-packages/ipykernel_launcher.py:5: DataConversionWarning: A column-vector y was passed when a 1d array was expected. Please change the shape of y to (n_samples,), for example using ravel().\n",
      "  \"\"\"\n",
      "/Users/leeseongjun/anaconda/lib/python3.6/site-packages/ipykernel_launcher.py:5: DataConversionWarning: A column-vector y was passed when a 1d array was expected. Please change the shape of y to (n_samples,), for example using ravel().\n",
      "  \"\"\"\n",
      "/Users/leeseongjun/anaconda/lib/python3.6/site-packages/ipykernel_launcher.py:5: DataConversionWarning: A column-vector y was passed when a 1d array was expected. Please change the shape of y to (n_samples,), for example using ravel().\n",
      "  \"\"\"\n",
      "/Users/leeseongjun/anaconda/lib/python3.6/site-packages/ipykernel_launcher.py:5: DataConversionWarning: A column-vector y was passed when a 1d array was expected. Please change the shape of y to (n_samples,), for example using ravel().\n",
      "  \"\"\"\n",
      "/Users/leeseongjun/anaconda/lib/python3.6/site-packages/ipykernel_launcher.py:5: DataConversionWarning: A column-vector y was passed when a 1d array was expected. Please change the shape of y to (n_samples,), for example using ravel().\n",
      "  \"\"\"\n",
      "/Users/leeseongjun/anaconda/lib/python3.6/site-packages/ipykernel_launcher.py:5: DataConversionWarning: A column-vector y was passed when a 1d array was expected. Please change the shape of y to (n_samples,), for example using ravel().\n",
      "  \"\"\"\n",
      "/Users/leeseongjun/anaconda/lib/python3.6/site-packages/ipykernel_launcher.py:5: DataConversionWarning: A column-vector y was passed when a 1d array was expected. Please change the shape of y to (n_samples,), for example using ravel().\n",
      "  \"\"\"\n",
      "/Users/leeseongjun/anaconda/lib/python3.6/site-packages/ipykernel_launcher.py:5: DataConversionWarning: A column-vector y was passed when a 1d array was expected. Please change the shape of y to (n_samples,), for example using ravel().\n",
      "  \"\"\"\n",
      "/Users/leeseongjun/anaconda/lib/python3.6/site-packages/ipykernel_launcher.py:5: DataConversionWarning: A column-vector y was passed when a 1d array was expected. Please change the shape of y to (n_samples,), for example using ravel().\n",
      "  \"\"\"\n",
      "/Users/leeseongjun/anaconda/lib/python3.6/site-packages/ipykernel_launcher.py:5: DataConversionWarning: A column-vector y was passed when a 1d array was expected. Please change the shape of y to (n_samples,), for example using ravel().\n",
      "  \"\"\"\n",
      "/Users/leeseongjun/anaconda/lib/python3.6/site-packages/ipykernel_launcher.py:5: DataConversionWarning: A column-vector y was passed when a 1d array was expected. Please change the shape of y to (n_samples,), for example using ravel().\n",
      "  \"\"\"\n",
      "/Users/leeseongjun/anaconda/lib/python3.6/site-packages/ipykernel_launcher.py:5: DataConversionWarning: A column-vector y was passed when a 1d array was expected. Please change the shape of y to (n_samples,), for example using ravel().\n",
      "  \"\"\"\n",
      "/Users/leeseongjun/anaconda/lib/python3.6/site-packages/ipykernel_launcher.py:5: DataConversionWarning: A column-vector y was passed when a 1d array was expected. Please change the shape of y to (n_samples,), for example using ravel().\n",
      "  \"\"\"\n",
      "/Users/leeseongjun/anaconda/lib/python3.6/site-packages/ipykernel_launcher.py:5: DataConversionWarning: A column-vector y was passed when a 1d array was expected. Please change the shape of y to (n_samples,), for example using ravel().\n",
      "  \"\"\"\n",
      "/Users/leeseongjun/anaconda/lib/python3.6/site-packages/ipykernel_launcher.py:5: DataConversionWarning: A column-vector y was passed when a 1d array was expected. Please change the shape of y to (n_samples,), for example using ravel().\n",
      "  \"\"\"\n",
      "/Users/leeseongjun/anaconda/lib/python3.6/site-packages/ipykernel_launcher.py:5: DataConversionWarning: A column-vector y was passed when a 1d array was expected. Please change the shape of y to (n_samples,), for example using ravel().\n",
      "  \"\"\"\n"
     ]
    }
   ],
   "source": [
    "pred = []\n",
    "prob = []\n",
    "for j in range(62,86) :\n",
    "    X_train, X_test, y_train, y_test = train_test_split(all.iloc[:,2:62], all.iloc[:,j:j+1], test_size = 0.3, random_state=0)\n",
    "    y_pred_randomForest = rfc.fit(X_train, y_train).predict(X_test)\n",
    "    persent.append(np.mean(y_test[target_cols_test[j-62]] == y_pred_randomForest))\n",
    "    y_pred_randomForest_test = rfc.predict(test_df.iloc[:,2:62])\n",
    "    pred.append(y_pred_randomForest_test)\n",
    "    y_pred_randomForest_test_prob = rfc.predict_proba(test_df.iloc[:,2:62])\n",
    "    prob.append(y_pred_randomForest_test_prob)\n",
    "    "
   ]
  },
  {
   "cell_type": "code",
   "execution_count": null,
   "metadata": {},
   "outputs": [],
   "source": [
    "# pred = []\n",
    "# prob = []\n",
    "# for j in range(62,86) :\n",
    "#     X_train, X_test, y_train, y_test = train_test_split(all.iloc[:,2:62], all.iloc[:,j:j+1], test_size = 0.3, random_state=0)\n",
    "#     y_pred_adaBoost = bdt_discrete.fit(X_train, y_train).predict(X_test)\n",
    "#     persent.append(np.mean(y_test[target_cols_test[j-62]] == y_pred_adaBoost))\n",
    "#     y_pred_adaBoost_test = bdt_discrete.predict(test_df.iloc[:,2:62])\n",
    "#     pred.append(y_pred_adaBoost_test)\n",
    "#     y_pred_adaBoost_test_prob = bdt_discrete.predict_proba(test_df.iloc[:,2:62])\n",
    "#     prob.append(y_pred_adaBoost_test_prob)"
   ]
  },
  {
   "cell_type": "markdown",
   "metadata": {},
   "source": [
    "# Make submission"
   ]
  },
  {
   "cell_type": "code",
   "execution_count": 18,
   "metadata": {},
   "outputs": [],
   "source": [
    "result = [[(0.0,'x') for col in range(24)] for row in range(1000)]\n",
    "for i in range(0, 24) :\n",
    "    for j in range(0, 1000) :\n",
    "#       if test_df[target_cols_train[i]][j] == 0 and (pred[i][j] == 1 or pred[i][j] == 0)  :\n",
    "        a = (prob[i][j][1],target_cols_train[i])\n",
    "        result[j][i] = a"
   ]
  },
  {
   "cell_type": "code",
   "execution_count": 54,
   "metadata": {},
   "outputs": [],
   "source": [
    "result_list = [['x' for col in range(24)] for row in range(1000)]\n",
    "result_list_index = [[0 for col in range(24)] for row in range(1000)]\n",
    "for i in range(0, 1000) : \n",
    "    encount = []\n",
    "    for j in range(0, 24) :\n",
    "        max = 0.0\n",
    "        index = 0\n",
    "        for k in range(0, 24) :  \n",
    "            if result[i][k][0] >= max and encount.count(k) == 0:  \n",
    "                max = result[i][k][0]\n",
    "                index = k\n",
    "        result_list[i][j] = result[i][index]\n",
    "        result_list_index[i][j] = index\n",
    "        encount.append(index)"
   ]
  },
  {
   "cell_type": "code",
   "execution_count": 55,
   "metadata": {},
   "outputs": [],
   "source": [
    "result_list_last = [['x' for col in range(24)] for row in range(1000)]\n",
    "\n",
    "for i in range(0, 1000) :\n",
    "    encount = []\n",
    "    count = 0\n",
    "    for j in range(0, 24) :\n",
    "        if test_df[result_list[i][j][1]][i] == 0 and pred[result_list_index[i][j]][i] == 1 and encount.count(j) == 0:\n",
    "            result_list_last[i][count] = result_list[i][j]\n",
    "            encount.append(j)\n",
    "            count = count + 1\n",
    "    for j in range(0, 24) :\n",
    "        if test_df[result_list[i][j][1]][i] == 0 and pred[result_list_index[i][j]][i] == 0 and encount.count(j) == 0:\n",
    "            result_list_last[i][count] = result_list[i][j]\n",
    "            encount.append(j)\n",
    "            count = count + 1\n",
    "    for j in range(0, 24) :\n",
    "        if test_df[result_list[i][j][1]][i] == 1 and pred[result_list_index[i][j]][i] == 1 and encount.count(j) == 0:\n",
    "            result_list_last[i][count] = result_list[i][j]\n",
    "            encount.append(j)\n",
    "            count = count + 1\n",
    "    for j in range(0, 24) :\n",
    "        if test_df[result_list[i][j][1]][i] == 1 and pred[result_list_index[i][j]][i] == 0 and encount.count(j) == 0:\n",
    "            result_list_last[i][count] = result_list[i][j]\n",
    "            encount.append(j)\n",
    "            count = count + 1\n",
    "                "
   ]
  },
  {
   "cell_type": "code",
   "execution_count": 60,
   "metadata": {},
   "outputs": [],
   "source": [
    "out = open('result.txt', 'w')\n",
    "for i in range(0, 1000) :\n",
    "    s = ''\n",
    "    s = s + str(i+1)\n",
    "    for j in range(0, 24) :\n",
    "        s = s + '\\t' + result_list_last[i][j][1]\n",
    "    \n",
    "    print(s, file=out)    \n",
    "out.close()"
   ]
  }
 ],
 "metadata": {
  "kernelspec": {
   "display_name": "Python 3",
   "language": "python",
   "name": "python3"
  },
  "language_info": {
   "codemirror_mode": {
    "name": "ipython",
    "version": 3
   },
   "file_extension": ".py",
   "mimetype": "text/x-python",
   "name": "python",
   "nbconvert_exporter": "python",
   "pygments_lexer": "ipython3",
   "version": "3.6.1"
  }
 },
 "nbformat": 4,
 "nbformat_minor": 2
}
