{
 "cells": [
  {
   "cell_type": "code",
   "execution_count": null,
   "metadata": {
    "collapsed": true
   },
   "outputs": [],
   "source": [
    "import pandas as pd\n",
    "import numpy as np\n",
    "import sys\n",
    "import array\n",
    "from orangecontrib.associate.fpgrowth import *  "
   ]
  },
  {
   "cell_type": "code",
   "execution_count": null,
   "metadata": {
    "collapsed": true
   },
   "outputs": [],
   "source": [
    "train = pd.read_csv('train.csv', header=None)"
   ]
  },
  {
   "cell_type": "code",
   "execution_count": null,
   "metadata": {
    "collapsed": true
   },
   "outputs": [],
   "source": [
    "train_df = train.rename(columns={0: \"order_id\", 1:\"product_id\", 2: \"add_to_cart_order\", 3 : \"reordered\"})"
   ]
  },
  {
   "cell_type": "code",
   "execution_count": null,
   "metadata": {},
   "outputs": [],
   "source": [
    "train_grouped = train_df.ix[:,:2];"
   ]
  },
  {
   "cell_type": "code",
   "execution_count": null,
   "metadata": {
    "collapsed": true
   },
   "outputs": [],
   "source": [
    "train_grouped_df = train_grouped.groupby('order_id').product_id.apply(list).reset_index()"
   ]
  },
  {
   "cell_type": "code",
   "execution_count": null,
   "metadata": {
    "collapsed": true
   },
   "outputs": [],
   "source": [
    "import pandas as pd\n",
    "import numpy as np\n",
    "\n",
    "testList = []\n",
    "\n",
    "f = open(\"test.csv\", 'r')\n",
    "lines = f.readlines()\n",
    "for line in lines:\n",
    "    line = line[:-1]\n",
    "    aList = line.split(',')\n",
    "    testList.append(aList)\n",
    "\n",
    "col_names = ['ID', 'P_ID', 'AddOrder','Re' ]\n",
    "df = pd.read_csv('train.csv', header=-1, names=col_names)\n"
   ]
  },
  {
   "cell_type": "code",
   "execution_count": null,
   "metadata": {
    "collapsed": true
   },
   "outputs": [],
   "source": [
    "alltest = []\n",
    "\n",
    "for i in range(0, 1000) :\n",
    "    for j in range(0, len(testList[i])) :\n",
    "        if testList[i][j] not in alltest :\n",
    "            alltest.append(testList[i][j])"
   ]
  },
  {
   "cell_type": "code",
   "execution_count": null,
   "metadata": {
    "collapsed": true
   },
   "outputs": [],
   "source": [
    "all_id = []\n",
    "    \n",
    "arr = np.asarray(alltest)\n",
    "arr = arr.astype(int)\n",
    "df_in = df[df['P_ID'].isin(arr)]\n",
    "uniqueID = df_in['ID'].unique()\n",
    "\n",
    "df_IDs = df[df['ID'].isin(uniqueID)]\n",
    "ids = df_IDs.ID.unique()\n",
    "all_id.append(ids)\n"
   ]
  },
  {
   "cell_type": "code",
   "execution_count": null,
   "metadata": {},
   "outputs": [],
   "source": [
    "in_id = train_grouped_df.order_id.isin(all_id[0])"
   ]
  },
  {
   "cell_type": "code",
   "execution_count": null,
   "metadata": {},
   "outputs": [],
   "source": [
    "listitem = []\n",
    "for i in range(0, train_grouped_df.product_id.size) :\n",
    "    if in_id[i] == True :\n",
    "        listitem.append(train_grouped_df.product_id[i])"
   ]
  },
  {
   "cell_type": "code",
   "execution_count": null,
   "metadata": {},
   "outputs": [],
   "source": [
    "itemsets = dict(frequent_itemsets(listitem, 0.00002))"
   ]
  },
  {
   "cell_type": "code",
   "execution_count": null,
   "metadata": {
    "collapsed": true
   },
   "outputs": [],
   "source": [
    "rules = list(association_rules(itemsets, 0.01))"
   ]
  },
  {
   "cell_type": "code",
   "execution_count": null,
   "metadata": {},
   "outputs": [],
   "source": [
    "rules_sorted = {}\n",
    "for i in range(0, len(rules)) :\n",
    "    rules_sorted[rules[i]] = rules[i][3]"
   ]
  },
  {
   "cell_type": "code",
   "execution_count": null,
   "metadata": {},
   "outputs": [],
   "source": [
    "rules_sorted_list = sorted(rules_sorted, key=lambda k : rules_sorted[k], reverse=True)"
   ]
  },
  {
   "cell_type": "code",
   "execution_count": null,
   "metadata": {
    "collapsed": true
   },
   "outputs": [],
   "source": [
    "import csv\n",
    "f = open('test.csv', 'r')\n",
    "csvReader=csv.reader(f)"
   ]
  },
  {
   "cell_type": "code",
   "execution_count": null,
   "metadata": {
    "collapsed": true
   },
   "outputs": [],
   "source": [
    "test=[]\n",
    "for row in csvReader:\n",
    "    test.append(row)"
   ]
  },
  {
   "cell_type": "code",
   "execution_count": null,
   "metadata": {
    "collapsed": true
   },
   "outputs": [],
   "source": [
    "listitem2 = []\n",
    "for i in range (0, len(test)) :\n",
    "    test_list = []\n",
    "    for j in range(0, len(test[i])) :\n",
    "        test_list.append(int(test[i][j]))\n",
    "    listitem2.append(test_list)"
   ]
  },
  {
   "cell_type": "code",
   "execution_count": null,
   "metadata": {},
   "outputs": [],
   "source": [
    "final = []\n",
    "final_index = []\n",
    "k = 0\n",
    "count = 0\n",
    "for t in range(0, 1000) :\n",
    "    k = 0\n",
    "    final_list = []\n",
    "    for i in range(0, len(rules_sorted_list)) :\n",
    "        count = 0\n",
    "        for j in range(0, len(list(rules_sorted_list[i][0]))) :\n",
    "            if list(rules_sorted_list[i][0])[j] in listitem2[t] :\n",
    "                count = count + 1;\n",
    "            if count == len(list(rules_sorted_list[i][0])) :\n",
    "                for z in range(0, len(list(rules_sorted_list[i][1]))) :\n",
    "                    if list(rules_sorted_list[i][1])[z] not in final_list :\n",
    "                        k = k + 1\n",
    "                        final_list.append(list(rules_sorted_list[i][1])[z])\n",
    "        if k == 5 :\n",
    "            final_index.append(t)\n",
    "            final.append(final_list)\n",
    "            break\n",
    "    "
   ]
  },
  {
   "cell_type": "code",
   "execution_count": null,
   "metadata": {},
   "outputs": [],
   "source": [
    "out_of_index = []\n",
    "for i in range(0, 1000) :\n",
    "    if i not in final_index :\n",
    "        out_of_index.append(i)"
   ]
  },
  {
   "cell_type": "code",
   "execution_count": null,
   "metadata": {},
   "outputs": [],
   "source": [
    "f = open(\"final.txt\", 'w')\n",
    "for i in range(0, len(final)) :\n",
    "    s = str(final_index[i])\n",
    "    s = s + \" \" + str(final[i])\n",
    "    s = s + \"\\n\"\n",
    "    f.write(s)\n",
    "f.close()\n",
    "    "
   ]
  },
  {
   "cell_type": "code",
   "execution_count": null,
   "metadata": {
    "collapsed": true
   },
   "outputs": [],
   "source": [
    "alltest = []\n",
    "\n",
    "for i in range(0, 1000) :\n",
    "    if i in out_of_index:\n",
    "        for j in range(0, len(testList[i])) :\n",
    "            if testList[i][j] not in alltest :\n",
    "                alltest.append(testList[i][j])"
   ]
  },
  {
   "cell_type": "code",
   "execution_count": null,
   "metadata": {
    "collapsed": true
   },
   "outputs": [],
   "source": [
    "all_id = []\n",
    "\n",
    "arr = np.asarray(alltest)\n",
    "arr = arr.astype(int)\n",
    "df_in = df[df['P_ID'].isin(arr)]\n",
    "uniqueID = df_in['ID'].unique()\n",
    "\n",
    "df_IDs = df[df['ID'].isin(uniqueID)]\n",
    "ids = df_IDs.ID.unique()\n",
    "all_id.append(ids)"
   ]
  },
  {
   "cell_type": "code",
   "execution_count": null,
   "metadata": {
    "collapsed": true
   },
   "outputs": [],
   "source": [
    "in_id = train_grouped_df.order_id.isin(all_id[0])"
   ]
  },
  {
   "cell_type": "code",
   "execution_count": null,
   "metadata": {},
   "outputs": [],
   "source": [
    "listitem = []\n",
    "for i in range(0, train_grouped_df.product_id.size):\n",
    "    if in_id[i] == True:\n",
    "        listitem.append(train_grouped_df.product_id[i])"
   ]
  },
  {
   "cell_type": "code",
   "execution_count": null,
   "metadata": {},
   "outputs": [],
   "source": [
    "itemsets = dict(frequent_itemsets(listitem, 0.0005))"
   ]
  },
  {
   "cell_type": "code",
   "execution_count": null,
   "metadata": {
    "collapsed": true
   },
   "outputs": [],
   "source": [
    "rules = list(association_rules(itemsets, 0.0005))"
   ]
  },
  {
   "cell_type": "code",
   "execution_count": null,
   "metadata": {
    "collapsed": true
   },
   "outputs": [],
   "source": [
    "rules_sorted = {}\n",
    "for i in range(0, len(rules)) :\n",
    "    rules_sorted[rules[i]] = rules[i][3]"
   ]
  },
  {
   "cell_type": "code",
   "execution_count": null,
   "metadata": {
    "collapsed": true
   },
   "outputs": [],
   "source": [
    "rules_sorted_list = sorted(rules_sorted, key=lambda k : rules_sorted[k], reverse=True)"
   ]
  },
  {
   "cell_type": "code",
   "execution_count": null,
   "metadata": {},
   "outputs": [],
   "source": [
    "final = []\n",
    "final_index = []\n",
    "k = 0\n",
    "count = 0\n",
    "for t in range(0, len(out_of_index)) :\n",
    "    k = 0\n",
    "    final_list = []\n",
    "    for i in range(0, len(rules_sorted_list)) :\n",
    "        count = 0\n",
    "        for j in range(0, len(list(rules_sorted_list[i][0]))) :\n",
    "            if list(rules_sorted_list[i][0])[j] in listitem2[out_of_index[t]] :\n",
    "                count = count + 1;\n",
    "            if count == len(list(rules_sorted_list[i][0])) :\n",
    "                for z in range(0, len(list(rules_sorted_list[i][1]))) :\n",
    "                    if list(rules_sorted_list[i][1])[z] not in final_list :\n",
    "                        k = k + 1\n",
    "                        final_list.append(list(rules_sorted_list[i][1])[z])\n",
    "        if k == 5 :\n",
    "            final_index.append(out_of_index[t])\n",
    "            final.append(final_list)\n",
    "            break"
   ]
  },
  {
   "cell_type": "code",
   "execution_count": null,
   "metadata": {
    "collapsed": true
   },
   "outputs": [],
   "source": [
    "out_of_index2 = []\n",
    "for i in range(0, len(out_of_index) :\n",
    "    if out_of_index[i] not in final_index :\n",
    "        out_of_index2.append(out_of_index[i])"
   ]
  },
  {
   "cell_type": "code",
   "execution_count": null,
   "metadata": {
    "collapsed": true
   },
   "outputs": [],
   "source": [
    "f = open(\"final2.txt\", 'w')\n",
    "for i in range(0, len(final)) :\n",
    "    s = str(final_index[i])\n",
    "    s = s + \" \" + str(final[i])\n",
    "    s = s + \"\\n\"\n",
    "    f.write(s)\n",
    "f.close()"
   ]
  },
  {
   "cell_type": "code",
   "execution_count": null,
   "metadata": {
    "collapsed": true
   },
   "outputs": [],
   "source": [
    "alltest = []\n",
    "\n",
    "for i in range(0, 1000) :\n",
    "    if i in out_of_index2:\n",
    "        for j in range(0, len(testList[i])) :\n",
    "            if testList[i][j] not in alltest :\n",
    "                alltest.append(testList[i][j])"
   ]
  },
  {
   "cell_type": "code",
   "execution_count": null,
   "metadata": {
    "collapsed": true
   },
   "outputs": [],
   "source": [
    "all_id = []\n",
    "\n",
    "arr = np.asarray(alltest)\n",
    "arr = arr.astype(int)\n",
    "df_in = df[df['P_ID'].isin(arr)]\n",
    "uniqueID = df_in['ID'].unique()\n",
    "\n",
    "df_IDs = df[df['ID'].isin(uniqueID)]\n",
    "ids = df_IDs.ID.unique()\n",
    "all_id.append(ids)"
   ]
  },
  {
   "cell_type": "code",
   "execution_count": null,
   "metadata": {
    "collapsed": true
   },
   "outputs": [],
   "source": [
    "in_id = train_grouped_df.order_id.isin(all_id[0])"
   ]
  },
  {
   "cell_type": "code",
   "execution_count": null,
   "metadata": {
    "collapsed": true
   },
   "outputs": [],
   "source": [
    "listitem = []\n",
    "for i in range(0, train_grouped_df.product_id.size):\n",
    "    if in_id[i] == True:\n",
    "        listitem.append(train_grouped_df.product_id[i])"
   ]
  },
  {
   "cell_type": "code",
   "execution_count": null,
   "metadata": {},
   "outputs": [],
   "source": [
    "len(listitem)"
   ]
  },
  {
   "cell_type": "code",
   "execution_count": null,
   "metadata": {
    "collapsed": true
   },
   "outputs": [],
   "source": [
    "itemsets = dict(frequent_itemsets(listitem, 0.03))"
   ]
  },
  {
   "cell_type": "code",
   "execution_count": null,
   "metadata": {},
   "outputs": [],
   "source": [
    "len(itemsets)"
   ]
  },
  {
   "cell_type": "code",
   "execution_count": null,
   "metadata": {
    "collapsed": true
   },
   "outputs": [],
   "source": [
    "rules = list(association_rules(itemsets, 0.1))"
   ]
  },
  {
   "cell_type": "code",
   "execution_count": null,
   "metadata": {},
   "outputs": [],
   "source": [
    "len(rules)"
   ]
  },
  {
   "cell_type": "code",
   "execution_count": null,
   "metadata": {
    "collapsed": true
   },
   "outputs": [],
   "source": [
    "rules_sorted = {}\n",
    "for i in range(0, len(rules)) :\n",
    "    rules_sorted[rules[i]] = rules[i][3]"
   ]
  },
  {
   "cell_type": "code",
   "execution_count": null,
   "metadata": {
    "collapsed": true
   },
   "outputs": [],
   "source": [
    "rules_sorted_list = sorted(rules_sorted, key=lambda k : rules_sorted[k], reverse=True)"
   ]
  },
  {
   "cell_type": "code",
   "execution_count": null,
   "metadata": {},
   "outputs": [],
   "source": [
    "final = []\n",
    "final_index = []\n",
    "k = 0\n",
    "count = 0\n",
    "for t in range(0, len(out_of_index2)) :\n",
    "    k = 0\n",
    "    final_list = []\n",
    "    for i in range(0, len(rules_sorted_list)) :\n",
    "        count = 0\n",
    "        for j in range(0, len(list(rules_sorted_list[i][0]))) :\n",
    "            if list(rules_sorted_list[i][0])[j] in listitem2[out_of_index2[t]] :\n",
    "                count = count + 1;\n",
    "            if count == len(list(rules_sorted_list[i][0])) :\n",
    "                for z in range(0, len(list(rules_sorted_list[i][1]))) :\n",
    "                    if list(rules_sorted_list[i][1])[z] not in final_list :\n",
    "                        k = k + 1\n",
    "                        final_list.append(list(rules_sorted_list[i][1])[z])\n",
    "    final_index.append(out_of_index2[t])\n",
    "    final.append(final_list)\n",
    "    if k == 5 :\n",
    "        break"
   ]
  },
  {
   "cell_type": "code",
   "execution_count": null,
   "metadata": {},
   "outputs": [],
   "source": [
    "final"
   ]
  },
  {
   "cell_type": "code",
   "execution_count": null,
   "metadata": {
    "collapsed": true
   },
   "outputs": [],
   "source": [
    "f = open(\"final3.txt\", 'w')\n",
    "for i in range(0, len(final)) :\n",
    "    s = str(final_index[i])\n",
    "    s = s + \" \" + str(final[i])\n",
    "    s = s + \"\\n\"\n",
    "    f.write(s)\n",
    "f.close()"
   ]
  }
 ],
 "metadata": {
  "kernelspec": {
   "display_name": "Python 3",
   "language": "python",
   "name": "python3"
  },
  "language_info": {
   "codemirror_mode": {
    "name": "ipython",
    "version": 3
   },
   "file_extension": ".py",
   "mimetype": "text/x-python",
   "name": "python",
   "nbconvert_exporter": "python",
   "pygments_lexer": "ipython3",
   "version": "3.6.1"
  }
 },
 "nbformat": 4,
 "nbformat_minor": 2
}
